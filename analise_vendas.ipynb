{
 "cells": [
  {
   "cell_type": "code",
   "execution_count": null,
   "metadata": {},
   "outputs": [],
   "source": [
    "import pandas as pd \n",
    "import matplotlib.pyplot as plt\n",
    "import seaborn as sns"
   ]
  },
  {
   "cell_type": "markdown",
   "metadata": {},
   "source": [
    "Carregando dataset"
   ]
  },
  {
   "cell_type": "code",
   "execution_count": null,
   "metadata": {},
   "outputs": [],
   "source": [
    "df = pd.read_csv(\"superstore.csv\", encoding=\"latin1\")\n",
    "df.head()"
   ]
  },
  {
   "cell_type": "code",
   "execution_count": null,
   "metadata": {},
   "outputs": [],
   "source": [
    "df.info()\n",
    "df.describe()"
   ]
  },
  {
   "cell_type": "code",
   "execution_count": null,
   "metadata": {},
   "outputs": [],
   "source": [
    "df.isnull().sum()"
   ]
  },
  {
   "cell_type": "markdown",
   "metadata": {},
   "source": [
    "Análise de vendas por categoria"
   ]
  },
  {
   "cell_type": "code",
   "execution_count": null,
   "metadata": {},
   "outputs": [],
   "source": [
    "vendas_por_categoria = df.groupby('Category')['Sales'].sum()\n",
    "\n",
    "#Gráfico de barras\n",
    "vendas_por_categoria.plot(kind='bar', color='skyblue')\n",
    "plt.title('Vendas por Categoria')\n",
    "plt.xlabel('Categoria')\n",
    "plt.ylabel('Vendas Totais')\n",
    "plt.show()"
   ]
  },
  {
   "cell_type": "markdown",
   "metadata": {},
   "source": [
    "Análise de vendas ao longo dos anos"
   ]
  },
  {
   "cell_type": "code",
   "execution_count": null,
   "metadata": {},
   "outputs": [],
   "source": [
    "# Converter \"Order Data\" para o formato datetime\n",
    "df[\"Order Date\"] = pd.to_datetime(df[\"Order Date\"])\n",
    "\n",
    "# Agrupando vendas por mês\n",
    "vendas_por_mes = df.groupby(df[\"Order Date\"].dt.to_period(\"M\"))[\"Sales\"].sum()\n",
    "\n",
    "# Plot gráfico de linhas\n",
    "vendas_por_mes.plot(kind=\"line\", marker=\"o\", color=\"magenta\")\n",
    "plt.title(\"Vendas ao Longo do Tempo\")\n",
    "plt.xlabel(\"Mês\")\n",
    "plt.ylabel(\"Vendas Totais\")\n",
    "plt.show()"
   ]
  },
  {
   "cell_type": "markdown",
   "metadata": {},
   "source": [
    "Análise de vendas por região"
   ]
  },
  {
   "cell_type": "code",
   "execution_count": null,
   "metadata": {},
   "outputs": [],
   "source": [
    "vendas_por_regiao = df.groupby(\"Region\")[\"Sales\"].sum().sort_values()\n",
    "\n",
    "# Plot\n",
    "ax = vendas_por_regiao.plot(kind=\"barh\", color=\"darkgray\", figsize=(8,4))\n",
    "plt.title(\"Vendas por Região (em R$)\", fontsize=14)\n",
    "plt.xlabel(\"Total de Vendas\")\n",
    "\n",
    "# valores adicionados\n",
    "for i, v in enumerate(vendas_por_regiao):\n",
    "    ax.text(v + 1000, i, f\"R$ {v:,.0f}\", va='center')\n",
    "\n",
    "plt.tight_layout()\n",
    "plt.show()"
   ]
  },
  {
   "cell_type": "markdown",
   "metadata": {},
   "source": [
    "Análise de grupo por Subcategoria "
   ]
  },
  {
   "cell_type": "code",
   "execution_count": null,
   "metadata": {},
   "outputs": [],
   "source": [
    "# Agrupamento e ordenação\n",
    "lucro_por_subcategoria = df.groupby(\"Sub-Category\")[\"Profit\"].sum().sort_values()\n",
    "\n",
    "# Gráfico de barras horizontais\n",
    "lucro_por_subcategoria.plot(kind=\"barh\", color=\"orange\", figsize=(10, 6))\n",
    "plt.title(\"Lucro por Subcategoria\", pad=20)\n",
    "plt.xlabel(\"Lucro Total (R$)\")\n",
    "plt.grid(axis=\"x\", alpha=0.3)\n",
    "plt.tight_layout()\n",
    "plt.show()"
   ]
  }
 ],
 "metadata": {
  "kernelspec": {
   "display_name": "Python 3",
   "language": "python",
   "name": "python3"
  },
  "language_info": {
   "codemirror_mode": {
    "name": "ipython",
    "version": 3
   },
   "file_extension": ".py",
   "mimetype": "text/x-python",
   "name": "python",
   "nbconvert_exporter": "python",
   "pygments_lexer": "ipython3",
   "version": "3.13.2"
  }
 },
 "nbformat": 4,
 "nbformat_minor": 2
}
